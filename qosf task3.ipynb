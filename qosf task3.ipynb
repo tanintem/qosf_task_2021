{
 "cells": [
  {
   "cell_type": "code",
   "execution_count": 1,
   "metadata": {},
   "outputs": [],
   "source": [
    "import random\n",
    "import numpy as np\n",
    "import itertools\n",
    "\n",
    "from cmath import *"
   ]
  },
  {
   "cell_type": "markdown",
   "metadata": {},
   "source": [
    "# Simulator Program"
   ]
  },
  {
   "cell_type": "markdown",
   "metadata": {},
   "source": [
    "##### ground state"
   ]
  },
  {
   "cell_type": "code",
   "execution_count": 2,
   "metadata": {},
   "outputs": [],
   "source": [
    "def get_ground_state(num_qubits):\n",
    "    # return vector of size 2**num_qubits with all zeroes except first element which is 1\n",
    "    ground_state = np.zeros(2**num_qubits)\n",
    "    ground_state[0] = 1\n",
    "    return ground_state"
   ]
  },
  {
   "cell_type": "markdown",
   "metadata": {},
   "source": [
    "#### get_operator\n",
    "This function works on any N control bits (https://github.com/quantastica/qosf-mentorship/blob/master/qosf-simulator-task-additional-info.pdf)"
   ]
  },
  {
   "cell_type": "code",
   "execution_count": 3,
   "metadata": {},
   "outputs": [],
   "source": [
    "def get_operator_nqubit(total_qubits, gate_unitary, target_qubits):\n",
    "    \n",
    "    control_bit = target_qubits[:-1]\n",
    "    target_bit = target_qubits[-1]\n",
    "    sub_matrix  = []\n",
    "    combination =  list(map(list, itertools.product([0, 1], repeat=len(control_bit))))\n",
    "\n",
    "    p_0x0_1x1 = [P0x0,P1x1]\n",
    "    for q in combination[:-1]:\n",
    "        matrix = 1\n",
    "        pointer = 0\n",
    "        for i in range(total_qubits):\n",
    "            if i in control_bit:\n",
    "                matrix = np.kron(matrix ,p_0x0_1x1[q[pointer]])\n",
    "                pointer+=1\n",
    "            else:\n",
    "                matrix = np.kron(matrix,I)                \n",
    "        sub_matrix.append(matrix)\n",
    "        \n",
    "        \n",
    "    matrix = 1\n",
    "    for i in range(total_qubits):\n",
    "        if i == target_bit:\n",
    "            matrix = np.kron(matrix ,gate_unitary)\n",
    "        \n",
    "        elif i in control_bit:\n",
    "            matrix = np.kron(matrix ,P1x1)\n",
    "\n",
    "        else:\n",
    "            matrix = np.kron(matrix,I)      \n",
    "    sub_matrix.append(matrix)\n",
    "    operator = np.sum(sub_matrix, axis = 0)\n",
    "    return operator"
   ]
  },
  {
   "cell_type": "markdown",
   "metadata": {},
   "source": [
    "# run_program"
   ]
  },
  {
   "cell_type": "code",
   "execution_count": 4,
   "metadata": {},
   "outputs": [],
   "source": [
    "def run_program(initial_state, program):\n",
    "    total_qubits = int(np.log2(len(initial_state)))\n",
    "    unitary = np.identity(len(initial_state))\n",
    "    # read program, and for each gate:\n",
    "    #   - calculate matrix operator\n",
    "    \n",
    "    for layer in program:\n",
    "        target_qubits = layer['target']\n",
    "        gate_unitary = gate_name_unitary[ layer['gate']]\n",
    "        operator = get_operator_nqubit(total_qubits, gate_unitary, target_qubits)\n",
    "\n",
    "        unitary = np.dot(unitary,operator)\n",
    "            \n",
    "            \n",
    "    #   - multiply state with operator\n",
    "    final_state = np.dot(initial_state,unitary)\n",
    "    \n",
    "    # return final state\n",
    "    return final_state"
   ]
  },
  {
   "cell_type": "markdown",
   "metadata": {},
   "source": [
    "# Measure"
   ]
  },
  {
   "cell_type": "code",
   "execution_count": 5,
   "metadata": {},
   "outputs": [],
   "source": [
    "def measure_all(state_vector):\n",
    "    # choose element from state_vector using weighted random and return it's index\n",
    "    position = 0\n",
    "    cumulative_sum =0\n",
    "    random_result = random.random()\n",
    "    for i in state_vector:\n",
    "        prob =abs(i)**2\n",
    "        cumulative_sum+=prob\n",
    "        if cumulative_sum <= random_result:\n",
    "            position +=1\n",
    "        else:\n",
    "            return position"
   ]
  },
  {
   "cell_type": "markdown",
   "metadata": {},
   "source": [
    "# Get counts"
   ]
  },
  {
   "cell_type": "code",
   "execution_count": 6,
   "metadata": {},
   "outputs": [],
   "source": [
    "def get_counts(state_vector, num_shots):\n",
    "    # simply execute measure_all in a loop num_shots times and\n",
    "    # return object with statistics in following form:\n",
    "    #   {\n",
    "    #      element_index: number_of_ocurrences,\n",
    "    #      element_index: number_of_ocurrences,\n",
    "    #      element_index: number_of_ocurrences,\n",
    "    #      ...\n",
    "    #   }\n",
    "    # (only for elements which occoured - returned from measure_all)\n",
    "    \n",
    "    num_qubits = int(np.log2(len(state_vector)))\n",
    "    combination = list(map(list, itertools.product([0, 1], repeat=num_qubits)))\n",
    "    \n",
    "    count = {}\n",
    "    element = []\n",
    "    for state in combination:\n",
    "        string = \"\".join([str(i) for i in state])    \n",
    "        count[string] = 0\n",
    "        element.append(string)\n",
    "    \n",
    "    for experiment in range(num_shots):\n",
    "        result = measure_all(state_vector)\n",
    "        count[element[result]] +=1\n",
    "        \n",
    "    return count"
   ]
  },
  {
   "cell_type": "markdown",
   "metadata": {},
   "source": [
    "### quantum gates and global variable"
   ]
  },
  {
   "cell_type": "code",
   "execution_count": 7,
   "metadata": {},
   "outputs": [],
   "source": [
    "# Define projection operator |0><0|\n",
    "\n",
    "P0x0 = np.array([\n",
    "[1, 0],\n",
    "[0, 0]\n",
    "])\n",
    "\n",
    "# Define projection operator |1><1|\n",
    "\n",
    "P1x1 = np.array([\n",
    "[0, 0],\n",
    "[0, 1]\n",
    "])\n",
    "\n",
    "\n",
    "\n",
    "X = np.array([\n",
    "[0, 1],\n",
    "[1, 0]\n",
    "])\n",
    "\n",
    "H =0.5**0.5*np.array([\n",
    "    [1, 1],\n",
    "    [1,-1]\n",
    "])\n",
    "\n",
    "gate_name_unitary ={\n",
    "    'h':H,\n",
    "    'x':X,\n",
    "    'cx':X,\n",
    "    'ccx':X,\n",
    "}\n",
    "\n",
    "I = np.identity(2)"
   ]
  },
  {
   "cell_type": "markdown",
   "metadata": {},
   "source": [
    "# run example"
   ]
  },
  {
   "cell_type": "code",
   "execution_count": 8,
   "metadata": {},
   "outputs": [],
   "source": [
    "my_circuit = [\n",
    "{ \"gate\": \"h\", \"target\": [0] }, \n",
    "{ \"gate\": \"cx\", \"target\": [0, 1] }\n",
    "]"
   ]
  },
  {
   "cell_type": "code",
   "execution_count": 9,
   "metadata": {},
   "outputs": [
    {
     "name": "stdout",
     "output_type": "stream",
     "text": [
      "[1. 0. 0. 0.]\n"
     ]
    }
   ],
   "source": [
    "my_qpu = get_ground_state(2)\n",
    "print(my_qpu)"
   ]
  },
  {
   "cell_type": "code",
   "execution_count": 10,
   "metadata": {},
   "outputs": [
    {
     "name": "stdout",
     "output_type": "stream",
     "text": [
      "[0.70710678 0.         0.         0.70710678]\n"
     ]
    }
   ],
   "source": [
    "final_state = run_program(my_qpu, my_circuit)\n",
    "print(final_state)"
   ]
  },
  {
   "cell_type": "code",
   "execution_count": 11,
   "metadata": {},
   "outputs": [
    {
     "data": {
      "text/plain": [
       "{'00': 501, '01': 0, '10': 0, '11': 499}"
      ]
     },
     "execution_count": 11,
     "metadata": {},
     "output_type": "execute_result"
    }
   ],
   "source": [
    "get_counts(final_state, num_shots=1000)"
   ]
  },
  {
   "cell_type": "markdown",
   "metadata": {},
   "source": [
    "# Parametric gates"
   ]
  },
  {
   "cell_type": "markdown",
   "metadata": {},
   "source": [
    "#### define gates"
   ]
  },
  {
   "cell_type": "code",
   "execution_count": 12,
   "metadata": {},
   "outputs": [],
   "source": [
    "def U1(params):\n",
    "    theta = params['theta']\n",
    "    return np.array([\n",
    "        [1 , 0],\n",
    "        [0, exp(1.j *lam )]\n",
    "        \n",
    "    ])\n",
    "\n",
    "def U2(params):\n",
    "    theta = params['theta']\n",
    "    phi = params['phi']\n",
    "    return 0.5**0.5*np.array([\n",
    "        [1, -exp(1.j*lam)],\n",
    "        [exp(1.j*phi), exp(1.j*(phi+lam))]\n",
    "    ])\n",
    "\n",
    "def U3(params):\n",
    "    theta = params['theta']\n",
    "    phi = params['phi']\n",
    "    lam = params['lambda']\n",
    "    return np.array([\n",
    "        [cos(theta/2),  -exp(1.j*lam)*sin(theta/2)],\n",
    "        [exp(1.j*phi)*sin(theta/2),  exp(1.j*(phi+lam))*cos(theta/2)]\n",
    "    ])\n",
    "\n",
    "param_gates ={\n",
    "    'u1':U1,\n",
    "    'u2':U2,\n",
    "    'u3':U3\n",
    "}"
   ]
  },
  {
   "cell_type": "markdown",
   "metadata": {},
   "source": [
    "####  change run_program()\n",
    "\n",
    "add condition for parametric gates"
   ]
  },
  {
   "cell_type": "code",
   "execution_count": 13,
   "metadata": {},
   "outputs": [],
   "source": [
    "def run_program(initial_state, program):\n",
    "    total_qubits = int(np.log2(len(initial_state)))\n",
    "    unitary = np.identity(len(initial_state))\n",
    "    # read program, and for each gate:\n",
    "    #   - calculate matrix operator\n",
    "    \n",
    "    for layer in program:\n",
    "        target_qubits = layer['target']\n",
    "        \n",
    "        # check if user use defined gate\n",
    "        if layer['gate'] in gate_name_unitary:\n",
    "            gate_unitary = gate_name_unitary[ layer['gate']]\n",
    "            params = None\n",
    "            \n",
    "        #### add parametric gates ####\n",
    "        elif layer['gate'] in param_gates:\n",
    "            params = layer['params']\n",
    "            gate_function = param_gates[ layer['gate']]\n",
    "            gate_unitary = gate_function(params)\n",
    "            \n",
    "        else:\n",
    "            gate_unitary = layer['gate']\n",
    "            \n",
    "        operator = get_operator_nqubit(total_qubits, gate_unitary, target_qubits)\n",
    "        unitary = np.dot(unitary,operator)\n",
    "            \n",
    "            \n",
    "    #   - multiply state with operator\n",
    "    final_state = np.dot(initial_state,unitary)\n",
    "    \n",
    "    # return final state\n",
    "    return final_state"
   ]
  },
  {
   "cell_type": "code",
   "execution_count": 14,
   "metadata": {},
   "outputs": [
    {
     "name": "stdout",
     "output_type": "stream",
     "text": [
      "[1. 0. 0. 0.]\n"
     ]
    }
   ],
   "source": [
    "my_qpu = get_ground_state(2)\n",
    "print(my_qpu)"
   ]
  },
  {
   "cell_type": "code",
   "execution_count": 15,
   "metadata": {},
   "outputs": [],
   "source": [
    "my_circuit = [\n",
    "{ \"gate\": \"h\", \"target\": [0] }, \n",
    "{ \"gate\": \"u3\", \"params\": { \"theta\": 3.1415, \"phi\": 1.5708, \"lambda\": -3.1415 }, \"target\": [0] }\n",
    "]"
   ]
  },
  {
   "cell_type": "code",
   "execution_count": 16,
   "metadata": {},
   "outputs": [
    {
     "name": "stdout",
     "output_type": "stream",
     "text": [
      "[3.01606426e-05+7.07106780e-01j 0.00000000e+00+0.00000000e+00j\n",
      " 7.07106781e-01+3.27579908e-05j 0.00000000e+00+0.00000000e+00j]\n"
     ]
    }
   ],
   "source": [
    "final_state = run_program(my_qpu, my_circuit)\n",
    "print(final_state)"
   ]
  },
  {
   "cell_type": "code",
   "execution_count": 17,
   "metadata": {},
   "outputs": [
    {
     "data": {
      "text/plain": [
       "{'00': 473, '01': 0, '10': 527, '11': 0}"
      ]
     },
     "execution_count": 17,
     "metadata": {},
     "output_type": "execute_result"
    }
   ],
   "source": [
    "get_counts(final_state, num_shots=1000)"
   ]
  },
  {
   "cell_type": "markdown",
   "metadata": {},
   "source": [
    "# Allow running variational quantum algorithms"
   ]
  },
  {
   "cell_type": "markdown",
   "metadata": {},
   "source": [
    "#####  change run_program()\n",
    "\n",
    "edit for variational parameter"
   ]
  },
  {
   "cell_type": "code",
   "execution_count": 18,
   "metadata": {},
   "outputs": [],
   "source": [
    "from copy import deepcopy"
   ]
  },
  {
   "cell_type": "code",
   "execution_count": 19,
   "metadata": {},
   "outputs": [],
   "source": [
    "def run_program(initial_state, init_program, variational_param = None):\n",
    "    total_qubits = int(np.log2(len(initial_state)))\n",
    "    unitary = np.identity(len(initial_state))\n",
    "    # read program, and for each gate:\n",
    "    #   - calculate matrix operator\n",
    "    \n",
    "    \n",
    "    #avoid changing values in the reference\n",
    "    program = deepcopy(init_program)\n",
    "    \n",
    "    for layer in program:\n",
    "        target_qubits = layer['target']\n",
    "        \n",
    "        # check if user use defined gate\n",
    "        if layer['gate'] in gate_name_unitary:\n",
    "            gate_unitary = gate_name_unitary[ layer['gate']]\n",
    "            params = None\n",
    "        # add param gates\n",
    "        elif layer['gate'] in param_gates:\n",
    "            params = layer['params']\n",
    "            \n",
    "            ### add variational_param\n",
    "            if variational_param != None:\n",
    "                for param_i in params:\n",
    "                    if params[param_i] in variational_param:\n",
    "                         params[param_i] = variational_param[params[param_i]]\n",
    "            \n",
    "            gate_function = param_gates[ layer['gate']]\n",
    "            gate_unitary = gate_function(params)\n",
    "            \n",
    "        else:\n",
    "            gate_unitary = layer['gate']\n",
    "            \n",
    "        operator = get_operator_nqubit(total_qubits, gate_unitary, target_qubits)\n",
    "        unitary = np.dot(unitary,operator)\n",
    "            \n",
    "            \n",
    "    #   - multiply state with operator\n",
    "    final_state = np.dot(initial_state,unitary)\n",
    "    \n",
    "    # return final state\n",
    "    return final_state"
   ]
  },
  {
   "cell_type": "code",
   "execution_count": 20,
   "metadata": {},
   "outputs": [],
   "source": [
    "my_circuit = [\n",
    "  { \"gate\": \"u3\", \"params\": { \"theta\": \"global_1\", \"phi\": \"global_2\", \"lambda\": -3.1415 }, \"target\": [0] }\n",
    "]\n",
    "params = np.array([3.1415, 1.5708])\n",
    "final_state = run_program(my_qpu, my_circuit, { \"global_1\": params[0], \"global_2\": params[1] })"
   ]
  },
  {
   "cell_type": "code",
   "execution_count": 21,
   "metadata": {},
   "outputs": [
    {
     "data": {
      "text/plain": [
       "array([4.63267949e-05+0.00000000e+00j, 0.00000000e+00+0.00000000e+00j,\n",
       "       9.99999995e-01+9.26535896e-05j, 0.00000000e+00+0.00000000e+00j])"
      ]
     },
     "execution_count": 21,
     "metadata": {},
     "output_type": "execute_result"
    }
   ],
   "source": [
    "final_state"
   ]
  },
  {
   "cell_type": "markdown",
   "metadata": {},
   "source": [
    "# test variational circuit"
   ]
  },
  {
   "cell_type": "code",
   "execution_count": 22,
   "metadata": {},
   "outputs": [],
   "source": [
    "from scipy.optimize import minimize"
   ]
  },
  {
   "cell_type": "code",
   "execution_count": 23,
   "metadata": {},
   "outputs": [
    {
     "name": "stdout",
     "output_type": "stream",
     "text": [
      "[1. 0. 0. 0.]\n"
     ]
    }
   ],
   "source": [
    "my_qpu = get_ground_state(2)\n",
    "print(my_qpu)"
   ]
  },
  {
   "cell_type": "code",
   "execution_count": 24,
   "metadata": {},
   "outputs": [],
   "source": [
    "my_circuit = [\n",
    "{ \"gate\": \"u3\", \"target\": [0], \"params\": { \"theta\": \"global_1\", \"phi\": 0, \"lambda\": 0} },\n",
    "{ \"gate\": \"u3\", \"target\": [1], \"params\": { \"theta\": \"global_2\", \"phi\": 0, \"lambda\": 0 } }\n",
    "]"
   ]
  },
  {
   "cell_type": "markdown",
   "metadata": {},
   "source": [
    "### objective function"
   ]
  },
  {
   "cell_type": "markdown",
   "metadata": {},
   "source": [
    "The objectives function design for state [0,0,0,1]"
   ]
  },
  {
   "cell_type": "code",
   "execution_count": 25,
   "metadata": {},
   "outputs": [],
   "source": [
    "def objective_function(params):\n",
    "    final_state = run_program(my_qpu, my_circuit, { \"global_1\": params[0], \"global_2\": params[1]})\n",
    "\n",
    "    counts = get_counts(final_state, 1000)\n",
    "\n",
    "    # i want state [0,0,0,1]\n",
    "    cost =  (1-counts['11']/1000)**2\n",
    "    return cost"
   ]
  },
  {
   "cell_type": "markdown",
   "metadata": {},
   "source": [
    "### optimize"
   ]
  },
  {
   "cell_type": "code",
   "execution_count": 26,
   "metadata": {},
   "outputs": [
    {
     "name": "stdout",
     "output_type": "stream",
     "text": [
      "init params [0.712749   0.56260591]\n"
     ]
    }
   ],
   "source": [
    "#init_values\n",
    "init_params = np.random.rand(2)\n",
    "print('init params', init_params)"
   ]
  },
  {
   "cell_type": "code",
   "execution_count": 27,
   "metadata": {},
   "outputs": [
    {
     "name": "stdout",
     "output_type": "stream",
     "text": [
      "before optimize: counts  {'00': 819, '01': 65, '10': 108, '11': 8}\n"
     ]
    }
   ],
   "source": [
    "first_state = run_program(my_qpu, my_circuit, { \"global_1\": init_params[0], \"global_2\": init_params[1]})\n",
    "counts = get_counts(first_state, 1000)\n",
    "print('before optimize: counts ', counts)"
   ]
  },
  {
   "cell_type": "code",
   "execution_count": 28,
   "metadata": {},
   "outputs": [],
   "source": [
    "minimum = minimize(objective_function, init_params, method=\"Powell\", tol=1e-6)"
   ]
  },
  {
   "cell_type": "code",
   "execution_count": 29,
   "metadata": {},
   "outputs": [
    {
     "data": {
      "text/plain": [
       "   direc: array([[1., 0.],\n",
       "       [0., 1.]])\n",
       "     fun: array(0.)\n",
       " message: 'Optimization terminated successfully.'\n",
       "    nfev: 184\n",
       "     nit: 3\n",
       "  status: 0\n",
       " success: True\n",
       "       x: array([3.12651439, 3.24425873])"
      ]
     },
     "execution_count": 29,
     "metadata": {},
     "output_type": "execute_result"
    }
   ],
   "source": [
    "minimum"
   ]
  },
  {
   "cell_type": "markdown",
   "metadata": {},
   "source": [
    "#### evaluate the variational circuit"
   ]
  },
  {
   "cell_type": "code",
   "execution_count": 30,
   "metadata": {},
   "outputs": [
    {
     "name": "stdout",
     "output_type": "stream",
     "text": [
      "final_cost 0.0\n"
     ]
    }
   ],
   "source": [
    "optimized_param = minimum['x']\n",
    "final_cost = objective_function(optimized_param)\n",
    "print('final_cost', final_cost)"
   ]
  },
  {
   "cell_type": "code",
   "execution_count": 31,
   "metadata": {},
   "outputs": [],
   "source": [
    "final_state = run_program(my_qpu, my_circuit, { \"global_1\": optimized_param[0], \"global_2\": optimized_param[1]})"
   ]
  },
  {
   "cell_type": "code",
   "execution_count": 32,
   "metadata": {},
   "outputs": [
    {
     "name": "stdout",
     "output_type": "stream",
     "text": [
      "counts  {'00': 0, '01': 0, '10': 2, '11': 998}\n"
     ]
    }
   ],
   "source": [
    "counts = get_counts(final_state, 1000)\n",
    "print('counts ', counts)"
   ]
  },
  {
   "cell_type": "code",
   "execution_count": null,
   "metadata": {},
   "outputs": [],
   "source": []
  }
 ],
 "metadata": {
  "kernelspec": {
   "display_name": "Python 3",
   "language": "python",
   "name": "python3"
  },
  "language_info": {
   "codemirror_mode": {
    "name": "ipython",
    "version": 3
   },
   "file_extension": ".py",
   "mimetype": "text/x-python",
   "name": "python",
   "nbconvert_exporter": "python",
   "pygments_lexer": "ipython3",
   "version": "3.7.1"
  }
 },
 "nbformat": 4,
 "nbformat_minor": 2
}
